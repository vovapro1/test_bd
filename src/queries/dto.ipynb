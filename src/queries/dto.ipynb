{
 "cells": [
  {
   "cell_type": "code",
   "execution_count": null,
   "metadata": {},
   "outputs": [],
   "source": [
    "from queries.models import WorkersORM, ResumesORM, Workload\n",
    "from schemas import ResumeDTO, ResumeRelDTO, WorkersDTO, WorkersRelDTO\n",
    "from database import session, engin\n",
    "\n",
    "from sqlalchemy import select, func, and_, or_, Integer\n",
    "from sqlalchemy.orm import selectinload\n",
    "\n"
   ]
  },
  {
   "cell_type": "code",
   "execution_count": null,
   "metadata": {},
   "outputs": [],
   "source": [
    "with session() as ses:\n",
    "    q = (\n",
    "        select(WorkersORM)\n",
    "    )\n",
    "    res = ses.execute(q)\n",
    "    result = res.all()\n",
    "    print(f\"{result=}\")"
   ]
  }
 ],
 "metadata": {
  "kernelspec": {
   "display_name": "Python 3",
   "language": "python",
   "name": "python3"
  },
  "language_info": {
   "codemirror_mode": {
    "name": "ipython",
    "version": 3
   },
   "file_extension": ".py",
   "mimetype": "text/x-python",
   "name": "python",
   "nbconvert_exporter": "python",
   "pygments_lexer": "ipython3",
   "version": "3.11.4"
  }
 },
 "nbformat": 4,
 "nbformat_minor": 2
}
