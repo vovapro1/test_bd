{
 "cells": [
  {
   "cell_type": "code",
   "execution_count": null,
   "metadata": {},
   "outputs": [],
   "source": [
    "from queries.models import WorkersORM, ResumesORM, Workload\n",
    "from schemas import ResumeDTO, ResumeRelDTO, WorkersDTO, WorkersRelDTO\n",
    "from database import session, engin\n",
    "\n",
    "from sqlalchemy import select, func, and_, or_, Integer\n",
    "from sqlalchemy.orm import selectinload\n",
<<<<<<< HEAD
    "\n",
    "x = 10"
   ]
  },
  {
   "cell_type": "code",
   "execution_count": 3,
   "metadata": {
    "scrolled": true
   },
   "outputs": [
    {
     "ename": "ModuleNotFoundError",
     "evalue": "No module named 'x'",
     "output_type": "error",
     "traceback": [
      "\u001b[1;31m---------------------------------------------------------------------------\u001b[0m",
      "\u001b[1;31mModuleNotFoundError\u001b[0m                       Traceback (most recent call last)",
      "Cell \u001b[1;32mIn[3], line 1\u001b[0m\n\u001b[1;32m----> 1\u001b[0m \u001b[38;5;28;01mimport\u001b[39;00m \u001b[38;5;21;01mx\u001b[39;00m\n\u001b[0;32m      2\u001b[0m \u001b[38;5;28mprint\u001b[39m(x)\n",
      "\u001b[1;31mModuleNotFoundError\u001b[0m: No module named 'x'"
     ]
    }
   ],
   "source": [
    "import x\n",
    "print(x)"
=======
    "\n"
>>>>>>> 70ac39e363fb4da4a64b2f83919c8acc9e49fe6f
   ]
  },
  {
   "cell_type": "code",
   "execution_count": null,
   "metadata": {},
   "outputs": [],
<<<<<<< HEAD
   "source": []
=======
   "source": [
    "with session() as ses:\n",
    "    q = (\n",
    "        select(WorkersORM)\n",
    "    )\n",
    "    res = ses.execute(q)\n",
    "    result = res.all()\n",
    "    print(f\"{result=}\")"
   ]
>>>>>>> 70ac39e363fb4da4a64b2f83919c8acc9e49fe6f
  }
 ],
 "metadata": {
  "kernelspec": {
<<<<<<< HEAD
   "display_name": "Python 3 (ipykernel)",
=======
   "display_name": "Python 3",
>>>>>>> 70ac39e363fb4da4a64b2f83919c8acc9e49fe6f
   "language": "python",
   "name": "python3"
  },
  "language_info": {
   "codemirror_mode": {
    "name": "ipython",
    "version": 3
   },
   "file_extension": ".py",
   "mimetype": "text/x-python",
   "name": "python",
   "nbconvert_exporter": "python",
   "pygments_lexer": "ipython3",
   "version": "3.11.4"
  }
 },
 "nbformat": 4,
<<<<<<< HEAD
 "nbformat_minor": 4
=======
 "nbformat_minor": 2
>>>>>>> 70ac39e363fb4da4a64b2f83919c8acc9e49fe6f
}
